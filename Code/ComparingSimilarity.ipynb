{
 "cells": [
  {
   "cell_type": "markdown",
   "metadata": {},
   "source": [
    "# Comparing similarity measures\n",
    "\n",
    "In this notebook a comparison between experimental results on humans and different similarity metrics are compared. \n",
    "This version uses dictionaries to avoid running the program many times.\n",
    "\n",
    "# PENDING...\n",
    "\n",
    " - Normalizar todo.. \n",
    " - Respaldar en github...\n",
    " - Hacer comparaciones contra individuos especificos de la encuesta (mi respuesta y otras que parezcan coherentes..)\n",
    "   (PARA ESO debo de MARCAR las preguntas que eliminé...)\n",
    " - \"Normalizar\" datos, en vez de 1 - 6 pasar de 0 a 1... \n",
    " - Hacer un conjunto de prueba hecho por mi, de 20 parejas\n",
    " - Comenzar a añadir 'la otra forma' de codificar... hacer algunas pruebas básicas... \n",
    " - Viernes enseñar resultados a Barrón y preguntarle si añado lo de la otra forma de codificar... \n",
    "\n",
    "\n",
    "### Importing libraries"
   ]
  },
  {
   "cell_type": "code",
   "execution_count": 1,
   "metadata": {},
   "outputs": [],
   "source": [
    "import pandas as pd\n",
    "import nltk\n",
    "import matplotlib\n",
    "import matplotlib.pyplot as plt\n",
    "import numpy\n",
    "from scipy.stats.stats import pearsonr\n",
    "from scipy.stats.stats import spearmanr\n",
    "\n",
    "%matplotlib inline\n",
    "\n",
    "#nltk.download('wordnet')\n",
    "#nltk.download('wordnet_ic')\n",
    "from nltk.corpus import wordnet as wn\n",
    "from nltk.corpus import wordnet_ic\n",
    "\n",
    "\n",
    "#pathh = '../McRaedataset/'  # @ home\n",
    "pathh = ''    # @ school\n",
    "#exp_file = 'ExperimentalResults_2.xlsx'  #Datos obtenidos con mis encuestas\n",
    "#exp_file = 'ExperimentalResults_3.xlsx'   # Datos de MTURK-771\n",
    "exp_file = 'ExperimentalResults_4.xlsx'   # Q1 Modificado..."
   ]
  },
  {
   "cell_type": "markdown",
   "metadata": {},
   "source": [
    "### Getting pairs of concepts"
   ]
  },
  {
   "cell_type": "code",
   "execution_count": 2,
   "metadata": {},
   "outputs": [
    {
     "name": "stdout",
     "output_type": "stream",
     "text": [
      "[['spoon', 'barrel'], ['spoon', 'envelope'], ['shoes', 'bike'], ['chair', 'pen'], ['shoes', 'carpet'], ['spoon', 'box'], ['spoon', 'truck'], ['table', 'brush'], ['shoes', 'skirt'], ['table', 'curtains'], ['shoes', 'shield'], ['table', 'spoon'], ['table', 'knife'], ['stove', 'pot'], ['bed', 'pajamas'], ['bed', 'mink_(coat)'], ['pen', 'envelope'], ['shoes', 'mink_(coat)'], ['shovel', 'machete'], ['chair', 'car'], ['table', 'barrel'], ['spoon', 'basket'], ['shoes', 'whip'], ['bed', 'lamp'], ['table', 'lamp'], ['chair', 'book'], ['shoes', 'earmuffs'], ['table', 'bookcase'], ['shoes', 'socks'], ['cup', 'bottle'], ['spoon', 'colander'], ['bed', 'curtains'], ['carpet', 'scarf'], ['table', 'sofa'], ['bed', 'chair'], ['bowl', 'bathtub'], ['spoon', 'ashtray'], ['bed', 'dresser'], ['bed', 'closet'], ['bed', 'table'], ['table', 'bench'], ['bed', 'cushion'], ['bed', 'pillow'], ['boots', 'belt'], ['shoes', 'belt'], ['chair', 'dresser'], ['chair', 'closet'], ['chair', 'bookcase'], ['spoon', 'plate'], ['spoon', 'tongs'], ['table', 'chair'], ['bed', 'sofa'], ['knife', 'scissors'], ['spoon', 'spatula'], ['chair', 'bench'], ['skirt', 'trousers'], ['shoes', 'slippers'], ['spoon', 'fork'], ['shoes', 'sandals'], ['chair', 'sofa'], ['spoon', 'ladle'], ['chair', 'rocker'], ['shoes', 'boots'], ['table', 'desk']]\n",
      "64\n"
     ]
    },
    {
     "data": {
      "text/plain": [
       "[<matplotlib.lines.Line2D at 0xe053f60>]"
      ]
     },
     "execution_count": 2,
     "metadata": {},
     "output_type": "execute_result"
    },
    {
     "data": {
      "image/png": "[encoded data removed]",
      "text/plain": [
       "<matplotlib.figure.Figure at 0xdf0b358>"
      ]
     },
     "metadata": {},
     "output_type": "display_data"
    }
   ],
   "source": [
    "def ListofPairs (number):\n",
    "    \"It obtains a list of pairs of concepts\"\n",
    "    df = pd.read_excel(exp_file)\n",
    "    if number > 0:\n",
    "        string = 'Q' + str(number)    \n",
    "    else:\n",
    "        string = 'average'\n",
    "    # 1) List of concepts\n",
    "    ordered = df.sort_values(by=string)\n",
    "    c1 = map(str, list( ordered['concept 1'] ))\n",
    "    c2 = map(str, list( ordered['concept 2'] ))\n",
    "    L1 = map(list, zip(c1,c2))\n",
    "    # 2) Human similarity\n",
    "    ordered = df.sort_values(by=string)\n",
    "    L2 = list(ordered[string])\n",
    "    #L2 = map(lambda x: round(float(x), 3) / 10, list(ordered[string]))\n",
    "    \n",
    "    return L1, L2\n",
    "\n",
    "PConcepts, Hum_Sim = ListofPairs(1)\n",
    "print PConcepts\n",
    "print len(PConcepts)\n",
    "#print Hum_Sim\n",
    "# Plotting\n",
    "plt.plot(Hum_Sim)"
   ]
  },
  {
   "cell_type": "markdown",
   "metadata": {},
   "source": [
    "## HD Computing similarity\n",
    "\n",
    "### Initializing memory and encoding dataset"
   ]
  },
  {
   "cell_type": "code",
   "execution_count": 3,
   "metadata": {},
   "outputs": [
    {
     "name": "stdout",
     "output_type": "stream",
     "text": [
      "End of initialization\n",
      "End of encoding\n"
     ]
    }
   ],
   "source": [
    "%run KB_HDComputing.ipynb\n",
    "\n",
    "# Initializing Memory\n",
    "Init_mem()"
   ]
  },
  {
   "cell_type": "markdown",
   "metadata": {},
   "source": [
    "### Comparing pairs of concepts in the HD binary space\n",
    "\n",
    "To make computations more efficient I created a dictionary where the similarity between a pair of concepts is stored. Everytime that a similarity is required the only thing to do is to consult this dictionary"
   ]
  },
  {
   "cell_type": "code",
   "execution_count": 9,
   "metadata": {},
   "outputs": [
    {
     "name": "stdout",
     "output_type": "stream",
     "text": [
      "[['spoon', 'barrel'], ['spoon', 'envelope'], ['shoes', 'bike'], ['chair', 'pen'], ['shoes', 'carpet'], ['spoon', 'box'], ['spoon', 'truck'], ['table', 'brush'], ['shoes', 'skirt'], ['table', 'curtains'], ['shoes', 'shield'], ['table', 'spoon'], ['table', 'knife'], ['stove', 'pot'], ['bed', 'pajamas'], ['bed', 'mink_(coat)'], ['pen', 'envelope'], ['shoes', 'mink_(coat)'], ['shovel', 'machete'], ['chair', 'car'], ['table', 'barrel'], ['spoon', 'basket'], ['shoes', 'whip'], ['bed', 'lamp'], ['table', 'lamp'], ['chair', 'book'], ['shoes', 'earmuffs'], ['table', 'bookcase'], ['shoes', 'socks'], ['cup', 'bottle'], ['spoon', 'colander'], ['bed', 'curtains'], ['carpet', 'scarf'], ['table', 'sofa'], ['bed', 'chair'], ['bowl', 'bathtub'], ['spoon', 'ashtray'], ['bed', 'dresser'], ['bed', 'closet'], ['bed', 'table'], ['table', 'bench'], ['bed', 'cushion'], ['bed', 'pillow'], ['boots', 'belt'], ['shoes', 'belt'], ['chair', 'dresser'], ['chair', 'closet'], ['chair', 'bookcase'], ['spoon', 'plate'], ['spoon', 'tongs'], ['table', 'chair'], ['bed', 'sofa'], ['knife', 'scissors'], ['spoon', 'spatula'], ['chair', 'bench'], ['skirt', 'trousers'], ['shoes', 'slippers'], ['spoon', 'fork'], ['shoes', 'sandals'], ['chair', 'sofa'], ['spoon', 'ladle'], ['chair', 'rocker'], ['shoes', 'boots'], ['table', 'desk']]\n"
     ]
    },
    {
     "data": {
      "text/plain": [
       "[<matplotlib.lines.Line2D at 0x2fd7d160>]"
      ]
     },
     "execution_count": 9,
     "metadata": {},
     "output_type": "execute_result"
    },
    {
     "data": {
      "image/png": "[encoded data removed]",
      "text/plain": [
       "<matplotlib.figure.Figure at 0x2faddeb8>"
      ]
     },
     "metadata": {},
     "output_type": "display_data"
    }
   ],
   "source": [
    "# Distance vector\n",
    "HD_sim = []\n",
    "print PConcepts\n",
    "for cc in PConcepts:\n",
    "#    print cc\n",
    "    HD_sim.append( HDvector.dist(Dict[cc[0]].getPointer(), Dict[cc[1]].getPointer()) )\n",
    "#Normalizing...\n",
    "#HD_sim = map(lambda x: round(1. - x/float( max(HD_sim)) , 3), HD_sim)\n",
    "HD_sim = map(lambda x: round(1. - x/float( N ) , 3), HD_sim)\n",
    "\n",
    "\n",
    "# Dictionary of distances\n",
    "Dict_HD = {}\n",
    "for key in range(len(HD_sim)):\n",
    "    Dict_HD[key] = HD_sim[key]\n",
    "\n",
    "# Plotting\n",
    "plt.plot(HD_sim)"
   ]
  },
  {
   "cell_type": "markdown",
   "metadata": {},
   "source": [
    "## McRae similarity\n",
    "\n",
    "The following cells consult the similarity for each pair of concepts in the distance matrix provided."
   ]
  },
  {
   "cell_type": "code",
   "execution_count": 10,
   "metadata": {},
   "outputs": [
    {
     "name": "stdout",
     "output_type": "stream",
     "text": [
      "Inicio\n",
      "Fin\n"
     ]
    }
   ],
   "source": [
    "def McRae_simi (pair_concepts):\n",
    "    \"Given a pair of concepts (in a list) it consults the similarity from the cos_matrix... file\"\n",
    "    try: \n",
    "        df = pd.read_excel(pathh + 'cos_matrix_brm_IFR.xlsx','1st_200')\n",
    "        return list(df.loc[df['CONCEPT'] == pair_concepts[0]][pair_concepts[1]])[0]\n",
    "    except:\n",
    "        try:\n",
    "            df = pd.read_excel(pathh + 'cos_matrix_brm_IFR.xlsx','2nd_200')\n",
    "            return list(df.loc[df['CONCEPT'] == pair_concepts[0]][pair_concepts[1]])[0]\n",
    "        except:\n",
    "            df = pd.read_excel(pathh + 'cos_matrix_brm_IFR.xlsx','last_141')\n",
    "            return list(df.loc[df['CONCEPT'] == pair_concepts[0]][pair_concepts[1]])[0]\n",
    "\n",
    "\n",
    "# Dictionary of distances (McRae)\n",
    "print \"Inicio\"\n",
    "Dict_McRae = {}\n",
    "key = 0\n",
    "for cc in PConcepts:\n",
    "    Dict_McRae[key] = McRae_simi(cc)\n",
    "    key += 1\n",
    "\n",
    "print \"Fin\"\n",
    "#plt.plot( )"
   ]
  },
  {
   "cell_type": "markdown",
   "metadata": {},
   "source": [
    "## NTLK Library functions\n",
    "\n",
    "### Auxiliary functions"
   ]
  },
  {
   "cell_type": "code",
   "execution_count": 11,
   "metadata": {},
   "outputs": [],
   "source": [
    "brown_ic = wordnet_ic.ic('ic-brown.dat')\n",
    "\n",
    "def get_synset (concept):\n",
    "    \"Given a concept name (string) it returns its synset (string)\"\n",
    "    # Dataframe for excel document\n",
    "    df = pd.read_excel(pathh + 'CONCS_Synset_brm.xlsx') #../McRaedataset/CONCS_Synset_brm.xlsx')\n",
    "    row = df.loc[df['Concept'] == concept]\n",
    "    return str(list(row['Synset'] )[0])\n",
    "\n",
    "def similarity_fun ( similarity_metric, pair, corpus = None):\n",
    "    \"Given a similarity_metric function it returns a list of the num closest concepts to 'concept'\"\n",
    "    c_synset_1 = wn.synset( get_synset(pair[0]))\n",
    "    c_synset_2 = wn.synset( get_synset(pair[1]))\n",
    "    if corpus:\n",
    "        return round(similarity_metric(c_synset_1, c_synset_2, corpus), 3)\n",
    "    else:\n",
    "        return round(similarity_metric(c_synset_1, c_synset_2), 3)"
   ]
  },
  {
   "cell_type": "markdown",
   "metadata": {},
   "source": [
    "## Similarity metrics"
   ]
  },
  {
   "cell_type": "code",
   "execution_count": 12,
   "metadata": {},
   "outputs": [
    {
     "name": "stdout",
     "output_type": "stream",
     "text": [
      "Inicio\n",
      "Fin\n"
     ]
    }
   ],
   "source": [
    "# Path similarity\n",
    "Dict_path = {}\n",
    "Dict_lch = {}\n",
    "Dict_wup = {}\n",
    "Dict_res = {}\n",
    "Dict_jcn = {}\n",
    "Dict_lin = {}\n",
    "\n",
    "print \"Inicio\"\n",
    "key = 0\n",
    "for pair in PConcepts:\n",
    "    Dict_path[key] = similarity_fun(wn.path_similarity, pair)\n",
    "    Dict_lch[key] = similarity_fun(wn.lch_similarity, pair)\n",
    "    Dict_wup[key] = similarity_fun(wn.wup_similarity, pair)\n",
    "    Dict_res[key] = similarity_fun(wn.res_similarity, pair, brown_ic)\n",
    "    Dict_jcn[key] = similarity_fun(wn.jcn_similarity, pair, brown_ic)\n",
    "    Dict_lin[key] = similarity_fun(wn.lin_similarity, pair, brown_ic)\n",
    "    key += 1\n",
    "\n",
    "print \"Fin\""
   ]
  },
  {
   "cell_type": "markdown",
   "metadata": {},
   "source": [
    "## Correlations\n",
    "\n",
    "Using correlation to compare obtained similarity values from different metrics.\n",
    "Loop to obtain correlations between each questionary (and the average) and each similarity metric\n",
    "\n",
    "### Pearson's"
   ]
  },
  {
   "cell_type": "code",
   "execution_count": 13,
   "metadata": {},
   "outputs": [
    {
     "name": "stdout",
     "output_type": "stream",
     "text": [
      "Inicio\n",
      "['Q3', 0.5945192566488391, ['HDC', 0.7057722131765634], ['res', 0.6577614906127348], ['McRae', 0.635950624435947], ['jcn', 0.6154477235373255], ['path', 0.5562118840318037], ['lin', 0.5491882602484143], ['lch', 0.5271583062509282], ['wup', 0.508663550896996]]\n",
      "['Q1', 0.5933307929651406, ['HDC', 0.7265534912023315], ['McRae', 0.6607765197456652], ['res', 0.6378787665088864], ['jcn', 0.6132732317473484], ['path', 0.550154684802676], ['lin', 0.5468917187203642], ['lch', 0.516211829948031], ['wup', 0.4949061010458211]]\n",
      "['Q23', 0.5358477957045655, ['HDC', 0.7448038828815066], ['McRae', 0.653609871725065], ['jcn', 0.556528252202636], ['res', 0.5326522166829489], ['path', 0.5124958597377783], ['lin', 0.44377911632465156], ['lch', 0.44339373603528853], ['wup', 0.39951943004664997]]\n",
      "['Q22', 0.4756874439492974, ['HDC', 0.5945041407115353], ['res', 0.5350962803127656], ['McRae', 0.5022504997756353], ['lin', 0.4731692512854517], ['jcn', 0.46418381506899464], ['wup', 0.43045800840859394], ['lch', 0.4033462087912317], ['path', 0.402491347240171]]\n",
      "['Q24', 0.474961486288117, ['HDC', 0.7231758718955302], ['McRae', 0.6399808913880194], ['jcn', 0.45817630746364985], ['res', 0.44663941701157805], ['lin', 0.40894377855213354], ['path', 0.4076076535268331], ['lch', 0.3707731502648827], ['wup', 0.344394820202309]]\n",
      "['Q29', 0.474961486288117, ['HDC', 0.7231758718955302], ['McRae', 0.6399808913880194], ['jcn', 0.45817630746364985], ['res', 0.44663941701157805], ['lin', 0.40894377855213354], ['path', 0.4076076535268331], ['lch', 0.3707731502648827], ['wup', 0.344394820202309]]\n",
      "['Q0', 0.47201676782449714, ['HDC', 0.8041770059819595], ['McRae', 0.7139031972238453], ['jcn', 0.47844473604588655], ['res', 0.4683176997257817], ['path', 0.3624467089330186], ['lin', 0.3608797548099106], ['lch', 0.3082897523975481], ['wup', 0.27967528747802656]]\n",
      "['Q5', 0.46044740230639797, ['HDC', 0.7406906069629393], ['McRae', 0.6786854055375082], ['jcn', 0.4643808421122841], ['res', 0.4337251960448505], ['path', 0.3995501428843089], ['lin', 0.34888857045328836], ['lch', 0.3280827806529581], ['wup', 0.2895756738030463]]\n",
      "['Q4', 0.44786784471526125, ['HDC', 0.7331161645166411], ['McRae', 0.6455839611849385], ['jcn', 0.5078925830088648], ['res', 0.43135938010383584], ['lin', 0.3693239682822185], ['path', 0.3558785974283806], ['lch', 0.28997045285783196], ['wup', 0.24981765033937842]]\n",
      "['Q6', 0.44318450411599564, ['HDC', 0.71211665180467], ['McRae', 0.638013239801899], ['jcn', 0.47370301510190366], ['res', 0.4101137097368982], ['path', 0.3568456930384529], ['lch', 0.32921431353282776], ['wup', 0.316474171718548], ['lin', 0.30899523819276553]]\n",
      "['Q9', 0.42577039808284844, ['HDC', 0.7760154334506657], ['McRae', 0.6833085497340586], ['jcn', 0.4714803906864961], ['res', 0.3638244370812098], ['path', 0.3440421234647614], ['lin', 0.2937809874452435], ['lch', 0.2653668709848338], ['wup', 0.20834439181551898]]\n",
      "['Q19', 0.4192128347098161, ['HDC', 0.6821223329636612], ['McRae', 0.6758511938086207], ['jcn', 0.5123562728681436], ['lin', 0.3855421569845399], ['res', 0.3549669055127946], ['path', 0.26856863908400963], ['lch', 0.24195715102218357], ['wup', 0.23233802543457513]]\n",
      "['Q25', 0.407484062029299, ['HDC', 0.7062554688018609], ['McRae', 0.6037600302880889], ['res', 0.4149860348534296], ['jcn', 0.37354325456046233], ['path', 0.324196680499234], ['lch', 0.2901614458924598], ['lin', 0.2892534754299396], ['wup', 0.2577161059089167]]\n",
      "['Q20', 0.3958438747484353, ['HDC', 0.6974719133298868], ['McRae', 0.5666839011935533], ['res', 0.4248391385146006], ['jcn', 0.3340300672305577], ['lin', 0.3301694777941791], ['path', 0.27574981668635135], ['lch', 0.2708269085991255], ['wup', 0.2669797746392285]]\n",
      "['Q27', 0.36864932950419466, ['HDC', 0.6346797963635724], ['McRae', 0.5714051755134275], ['res', 0.42224188881818975], ['jcn', 0.28996819178530114], ['path', 0.2887844056083111], ['lch', 0.2677724775540963], ['wup', 0.25571431728669064], ['lin', 0.21862838310396862]]\n",
      "['Q28', 0.36864932950419466, ['HDC', 0.6346797963635724], ['McRae', 0.5714051755134275], ['res', 0.42224188881818975], ['jcn', 0.28996819178530114], ['path', 0.2887844056083111], ['lch', 0.2677724775540963], ['wup', 0.25571431728669064], ['lin', 0.21862838310396862]]\n",
      "['Q17', 0.359582454175601, ['HDC', 0.619747092169226], ['McRae', 0.5791788953636348], ['jcn', 0.47568726946362555], ['res', 0.3384572390125867], ['lin', 0.28919584971761536], ['path', 0.21561790576098852], ['lch', 0.18523263982150848], ['wup', 0.17354274209562276]]\n",
      "['Q7', 0.352279667887998, ['HDC', 0.6067760761784236], ['McRae', 0.6043378342936216], ['jcn', 0.3764845276543243], ['res', 0.33611438039791025], ['path', 0.2797139700229297], ['lin', 0.22947059293965896], ['lch', 0.21115806042596702], ['wup', 0.17418190119114865]]\n",
      "['Q12', 0.3336273363160329, ['McRae', 0.6249213545511516], ['HDC', 0.6103833362190391], ['jcn', 0.3560187575683177], ['res', 0.30110846732679414], ['path', 0.2512003490987392], ['lin', 0.2143512361699479], ['lch', 0.17343847583980593], ['wup', 0.13759671375446794]]\n",
      "['Q13', 0.3336273363160329, ['McRae', 0.6249213545511516], ['HDC', 0.6103833362190391], ['jcn', 0.3560187575683177], ['res', 0.30110846732679414], ['path', 0.2512003490987392], ['lin', 0.2143512361699479], ['lch', 0.17343847583980593], ['wup', 0.13759671375446794]]\n",
      "['Q16', 0.3065030903942519, ['HDC', 0.6288566551066732], ['McRae', 0.5350762552782452], ['res', 0.30664601700111627], ['jcn', 0.26489530859770033], ['path', 0.20039884250355716], ['lin', 0.18329290870158807], ['lch', 0.17485084803958356], ['wup', 0.1580078879255513]]\n",
      "['Q2', 0.3003767756447292, ['HDC', 0.5112899289640105], ['McRae', 0.47627983057545076], ['jcn', 0.3391599417014522], ['res', 0.3139544672969081], ['lin', 0.2655922357051905], ['path', 0.20385036195446252], ['lch', 0.1616460740666408], ['wup', 0.13124136489371815]]\n",
      "['Q21', 0.2905931910694119, ['HDC', 0.5853949277101971], ['McRae', 0.5420513893151659], ['jcn', 0.40859858007456784], ['res', 0.1942290093620494], ['lin', 0.18357219686954251], ['path', 0.1810344667785805], ['lch', 0.12949442086792384], ['wup', 0.10037053757726806]]\n",
      "['Q10', 0.2747122602313666, ['HDC', 0.6832248714965176], ['McRae', 0.5901324986927545], ['jcn', 0.31361079043658824], ['res', 0.2304244004083182], ['path', 0.14764922114336945], ['lin', 0.13411478255593604], ['lch', 0.06555702735185488], ['wup', 0.03298448976559395]]\n",
      "['Q15', 0.23335731613716315, ['HDC', 0.3429198577555477], ['McRae', 0.3092073497582305], ['jcn', 0.22833934858764812], ['res', 0.21502479341419448], ['path', 0.20914943242287604], ['lch', 0.20199725089426293], ['wup', 0.1941251100231358], ['lin', 0.16609538624140946]]\n",
      "['Q8', 0.22819139009478734, ['HDC', 0.5499075000377953], ['McRae', 0.46191769306451474], ['jcn', 0.32471017578990446], ['lin', 0.22503484871365673], ['res', 0.21853079674753098], ['path', 0.045282454320680385], ['wup', 0.0013339201467725283], ['lch', -0.0011862680625562866]]\n",
      "['Q11', 0.19540760122963396, ['HDC', 0.3457393676701052], ['McRae', 0.3069201494838407], ['res', 0.2901760593314529], ['lin', 0.2107536926998843], ['jcn', 0.153632961028617], ['wup', 0.10664208524948544], ['lch', 0.07735104714052705], ['path', 0.07204544723315898]]\n",
      "['Q18', 0.17216612779564378, ['HDC', 0.5271119435074687], ['McRae', 0.5035017284074779], ['res', 0.1456800189812725], ['jcn', 0.13283398332206603], ['path', 0.06157027970865411], ['lch', 0.02438193677818998], ['wup', -0.004703301370811109], ['lin', -0.013047566969167942]]\n",
      "['Q14', 0.14872984183916127, ['HDC', 0.601202939667095], ['McRae', 0.46148472531002854], ['jcn', 0.0679443000188171], ['path', 0.059797070588221576], ['res', 0.04890078086214064], ['lch', -0.0005442111687768574], ['lin', -0.013202213681767987], ['wup', -0.03574465688246785]]\n",
      "['Q26', 0.10704675227150993, ['McRae', 0.4407910087767634], ['HDC', 0.381131651470779], ['jcn', 0.10522105309634659], ['res', 0.05535089938482106], ['lin', 0.0049548979063905015], ['path', -0.014008973343151689], ['lch', -0.0493200498373339], ['wup', -0.06774646928253554]]\n"
     ]
    }
   ],
   "source": [
    "print \"Inicio\"\n",
    "Corr_mat = []\n",
    "for Q in range(30):\n",
    "    # 1) Obtain \"human list\", it can be the average responses or an specific one\n",
    "    Hum_sim =  ListofPairs(Q) #or Q + #1-30\n",
    "    \n",
    "    # 2) Obtain list of keys for previous list\n",
    "    keys = map(lambda x: PConcepts.index(x), Hum_sim[0])\n",
    "    \n",
    "    # 3) Create a list of distances according to each metric by consulting the appropiate dictionary\n",
    "    HD_sim = [Dict_HD[x] for x in keys]\n",
    "    McRae_sim = [Dict_McRae[x] for x in keys]\n",
    "    path_sim = [Dict_path[x] for x in keys]\n",
    "    lch_sim = [Dict_lch[x] for x in keys]\n",
    "    # optional... \n",
    "    lch_sim = map(lambda x: round(x/float( max(lch_sim)) , 3), lch_sim)\n",
    "    \n",
    "    wup_sim = [Dict_wup[x] for x in keys]\n",
    "    res_sim = [Dict_res[x] for x in keys]\n",
    "    # optional\n",
    "    res_sim = map(lambda x: round(x/float( max(res_sim)) , 3), res_sim)\n",
    "    \n",
    "    jcn_sim = [Dict_jcn[x] for x in keys]\n",
    "    lin_sim = [Dict_lin[x] for x in keys]\n",
    "\n",
    "    # 4) Calculate correlations\n",
    "    correlations = [['HDC', pearsonr(Hum_sim[1], HD_sim)[0]], ['McRae', pearsonr(Hum_sim[1], McRae_sim)[0]],\n",
    "                    ['path', pearsonr(Hum_sim[1], path_sim)[0]], ['lch', pearsonr(Hum_sim[1], lch_sim)[0]],\n",
    "                    ['wup', pearsonr(Hum_sim[1], wup_sim)[0]], ['res', pearsonr(Hum_sim[1], res_sim)[0]],\n",
    "                    ['jcn', pearsonr(Hum_sim[1], jcn_sim)[0]], ['lin', pearsonr(Hum_sim[1], lin_sim)[0]]]\n",
    "\n",
    "    # 5) Sort list so far (key = )\n",
    "    correlations = sorted(correlations, key = lambda x: x[1], reverse = True)\n",
    "    \n",
    "    # 6) Adding 'name' and average correlation value\n",
    "    Corr_mat.append( ['Q' + str(Q), np.mean([r[1] for r in correlations])] + correlations )\n",
    "\n",
    "# 7) Sorting entire matrix by average value (last...)\n",
    "Corr_mat = sorted(Corr_mat, key = lambda x: x[1], reverse = True)\n",
    "\n",
    "# Printing\n",
    "for v in Corr_mat:\n",
    "    print v"
   ]
  },
  {
   "cell_type": "code",
   "execution_count": 14,
   "metadata": {},
   "outputs": [
    {
     "name": "stdout",
     "output_type": "stream",
     "text": [
      "[0.529, 0.516, 0.518, 0.513, 0.516, 0.539, 0.5, 0.503, 0.506, 0.495, 0.497, 0.521, 0.498, 0.495, 0.497, 0.613, 0.56, 0.52, 0.55, 0.494, 0.549, 0.524, 0.535, 0.503, 0.575, 0.521, 0.544, 0.552, 0.525, 0.538, 0.547, 0.504, 0.559, 0.559, 0.497, 0.53, 0.582, 0.574, 0.591, 0.59, 0.551, 0.501, 0.595, 0.576, 0.546, 0.559, 0.584, 0.62, 0.565, 0.562, 0.52, 0.599, 0.647, 0.563, 0.576, 0.56, 0.594, 0.673, 0.592, 0.625, 0.594, 0.661, 0.565, 0.597]\n",
      "[0.134, 0.044, 0.306, 0.026, 0.035, 0.149, 0.0, 0.0, 0.0, 0.0, 0.0, 0.031, 0.0, 0.0, 0.0, 0.336, 0.29, 0.017, 0.104, 0.0, 0.325, 0.03, 0.093, 0.0, 0.377, 0.039, 0.121, 0.158, 0.02, 0.082, 0.222, 0.0, 0.514, 0.17, 0.0, 0.037, 0.477, 0.149, 0.159, 0.425, 0.202, 0.0, 0.35, 0.227, 0.119, 0.192, 0.323, 0.546, 0.382, 0.284, 0.022, 0.319, 0.546, 0.138, 0.204, 0.374, 0.715, 0.62, 0.34, 0.395, 0.511, 0.411, 0.323, 0.405]\n",
      "[0.25, 0.167, 0.125, 0.25, 0.1, 0.167, 0.1, 0.333, 0.2, 0.167, 0.167, 0.333, 0.091, 0.125, 0.125, 0.143, 0.167, 0.25, 0.333, 0.111, 0.333, 0.333, 0.2, 0.25, 0.167, 0.25, 0.25, 0.077, 0.25, 0.2, 0.25, 0.2, 0.143, 0.1, 0.2, 0.25, 0.083, 0.1, 0.167, 0.25, 0.25, 0.25, 0.2, 0.143, 0.2, 0.167, 0.2, 0.333, 0.5, 0.125, 0.333, 0.5, 0.333, 0.25, 0.333, 0.111, 0.333, 0.333, 0.25, 0.143, 0.333, 0.25, 0.25, 0.5]\n",
      "[0.765, 0.627, 0.529, 0.765, 0.453, 0.627, 0.453, 0.862, 0.689, 0.627, 0.627, 0.862, 0.421, 0.529, 0.529, 0.575, 0.627, 0.765, 0.862, 0.489, 0.862, 0.862, 0.689, 0.765, 0.627, 0.765, 0.765, 0.364, 0.765, 0.689, 0.765, 0.689, 0.575, 0.453, 0.689, 0.765, 0.392, 0.453, 0.627, 0.765, 0.765, 0.765, 0.689, 0.575, 0.689, 0.627, 0.689, 0.862, 1.0, 0.529, 0.862, 1.0, 0.862, 0.765, 0.862, 0.489, 0.862, 0.862, 0.765, 0.575, 0.862, 0.765, 0.765, 1.0]\n",
      "[0.824, 0.706, 0.588, 0.842, 0.571, 0.706, 0.571, 0.875, 0.75, 0.706, 0.737, 0.889, 0.5, 0.632, 0.588, 0.667, 0.706, 0.824, 0.875, 0.6, 0.889, 0.875, 0.75, 0.824, 0.706, 0.8, 0.842, 0.455, 0.842, 0.8, 0.842, 0.778, 0.667, 0.571, 0.75, 0.842, 0.476, 0.526, 0.706, 0.842, 0.842, 0.842, 0.75, 0.667, 0.8, 0.706, 0.8, 0.9, 0.941, 0.588, 0.889, 0.952, 0.9, 0.842, 0.875, 0.556, 0.917, 0.875, 0.824, 0.667, 0.9, 0.824, 0.842, 0.947]\n",
      "[0.492, 0.308, 0.218, 0.626, 0.308, 0.308, 0.308, 0.492, 0.484, 0.308, 0.492, 0.626, 0.218, 0.308, 0.218, 0.308, 0.484, 0.492, 0.492, 0.484, 0.626, 0.492, 0.484, 0.617, 0.484, 0.484, 0.626, 0.218, 0.626, 0.626, 0.626, 0.617, 0.308, 0.308, 0.484, 0.626, 0.218, 0.218, 0.484, 0.626, 0.626, 0.626, 0.308, 0.484, 0.708, 0.484, 0.626, 1.0, 0.85, 0.218, 0.676, 0.926, 0.798, 0.626, 0.823, 0.218, 0.793, 0.823, 0.492, 0.308, 0.798, 0.492, 0.626, 0.741]\n",
      "[0.095, 0.063, 0.069, 0.155, 0.089, 0.08, 0.092, 0.083, 0.13, 0.086, 0.107, 0.167, 0.08, 0.07, 0.073, 0.0, 0.088, 0.066, 0.085, 0.088, 0.126, 0.106, 0.1, 0.234, 0.106, 0.0, 0.2, 0.061, 0.343, 0.205, 0.101, 0.21, 0.09, 0.0, 0.107, 0.214, 0.066, 0.062, 0.085, 0.228, 0.155, 0.163, 0.052, 0.092, 0.145, 0.076, 0.18, 0.697, 0.305, 0.067, 0.129, 0.347, 0.294, 0.197, 0.323, 0.064, 0.161, 0.398, 0.105, 0.061, 0.3, 0.078, 0.2, 0.705]\n",
      "[0.496, 0.292, 0.241, 0.672, 0.368, 0.342, 0.375, 0.463, 0.571, 0.358, 0.526, 0.689, 0.269, 0.313, 0.253, 0.0, 0.473, 0.406, 0.469, 0.473, 0.624, 0.524, 0.505, 0.753, 0.52, 0.0, 0.726, 0.22, 0.819, 0.731, 0.571, 0.732, 0.37, 0.0, 0.522, 0.739, 0.234, 0.221, 0.465, 0.751, 0.672, 0.683, 0.254, 0.486, 0.684, 0.437, 0.704, 0.936, 0.846, 0.235, 0.649, 0.872, 0.832, 0.723, 0.849, 0.229, 0.73, 0.874, 0.521, 0.284, 0.835, 0.447, 0.726, 0.917]\n"
     ]
    }
   ],
   "source": [
    "print HD_sim\n",
    "print McRae_sim\n",
    "print path_sim\n",
    "print lch_sim\n",
    "print wup_sim\n",
    "print res_sim\n",
    "print jcn_sim\n",
    "print lin_sim"
   ]
  },
  {
   "cell_type": "markdown",
   "metadata": {},
   "source": [
    "### Spearman"
   ]
  },
  {
   "cell_type": "code",
   "execution_count": 15,
   "metadata": {},
   "outputs": [
    {
     "name": "stdout",
     "output_type": "stream",
     "text": [
      "Inicio\n",
      "['Q3', 0.5416349654198698, ['HDC', 0.6665967183402344], ['res', 0.6180645172136234], ['McRae', 0.6117350860745163], ['lin', 0.5283777382440734], ['wup', 0.5089828755921201], ['path', 0.4729497338976436], ['lch', 0.4729497338976436], ['jcn', 0.4534233200991038]]\n",
      "['Q1', 0.5327285612803374, ['HDC', 0.7127824037515099], ['McRae', 0.6581262203794649], ['res', 0.5859525664953688], ['lin', 0.5054957642122901], ['wup', 0.477168673856746], ['path', 0.44333820791671913], ['lch', 0.44333820791671913], ['jcn', 0.43562644571388115]]\n",
      "['Q22', 0.47840893168143517, ['HDC', 0.6097334893117066], ['McRae', 0.5586645071878004], ['res', 0.553063750817275], ['lin', 0.47925731154824736], ['wup', 0.43718650909309953], ['jcn', 0.41475875272027085], ['path', 0.38730356638654057], ['lch', 0.38730356638654057]]\n",
      "['Q23', 0.47243985928355847, ['HDC', 0.7378528251864727], ['McRae', 0.6468770936987288], ['res', 0.4805308945396577], ['lin', 0.41514065322137667], ['wup', 0.3858160398132124], ['path', 0.3717246858071927], ['lch', 0.3717246858071927], ['jcn', 0.3698519961946342]]\n",
      "['Q24', 0.45491861168933595, ['HDC', 0.7325912946349126], ['McRae', 0.6383449672328065], ['res', 0.45026672535572937], ['lin', 0.3984316370424766], ['wup', 0.36770464840091605], ['path', 0.3531781662349704], ['lch', 0.3531781662349704], ['jcn', 0.345653288377906]]\n",
      "['Q29', 0.45491861168933595, ['HDC', 0.7325912946349126], ['McRae', 0.6383449672328065], ['res', 0.45026672535572937], ['lin', 0.3984316370424766], ['wup', 0.36770464840091605], ['path', 0.3531781662349704], ['lch', 0.3531781662349704], ['jcn', 0.345653288377906]]\n",
      "['Q5', 0.4348787301320558, ['HDC', 0.7468134191736886], ['McRae', 0.6978040240656017], ['res', 0.4157414104067848], ['lin', 0.35044037200091777], ['wup', 0.3346692180395617], ['path', 0.31686420436151547], ['lch', 0.31686420436151547], ['jcn', 0.29983298864686075]]\n",
      "['Q0', 0.4287709327861449, ['HDC', 0.7983877444925181], ['McRae', 0.7288089120658067], ['res', 0.4155854619997794], ['lin', 0.3588733688215181], ['jcn', 0.30026106678814846], ['wup', 0.29173775396056995], ['path', 0.26825657708040934], ['lch', 0.26825657708040934]]\n",
      "['Q20', 0.3882825940428741, ['HDC', 0.7167900197791045], ['McRae', 0.5959650490305299], ['res', 0.3791652611247756], ['lin', 0.3461603561115858], ['jcn', 0.288071470143374], ['wup', 0.26648226878624187], ['path', 0.2568131636836904], ['lch', 0.2568131636836904]]\n",
      "['Q4', 0.38629697006467106, ['HDC', 0.7259338251735503], ['McRae', 0.6700605090353612], ['res', 0.36270405897383107], ['lin', 0.3395963462749101], ['jcn', 0.3013062779025839], ['wup', 0.24462940173861977], ['path', 0.22307267070925618], ['lch', 0.22307267070925618]]\n",
      "['Q6', 0.378654866869739, ['HDC', 0.6881361766592448], ['McRae', 0.6168801486443634], ['res', 0.344187555436812], ['lin', 0.297918844239974], ['wup', 0.2908921160502181], ['path', 0.268857500687175], ['lch', 0.268857500687175], ['jcn', 0.2535090925529497]]\n",
      "['Q25', 0.37583635269328974, ['HDC', 0.7074859440019575], ['McRae', 0.6263792393423921], ['res', 0.3538086695412248], ['lin', 0.2950037336539205], ['path', 0.2718248192028833], ['lch', 0.2718248192028833], ['wup', 0.26537860016291515], ['jcn', 0.214984996438141]]\n",
      "['Q19', 0.3626202656265962, ['HDC', 0.6461138246231197], ['McRae', 0.6451902699873695], ['lin', 0.349916942884881], ['jcn', 0.3271024279477391], ['res', 0.3038088106751888], ['wup', 0.224601236098154], ['path', 0.20211430639815892], ['lch', 0.20211430639815892]]\n",
      "['Q9', 0.3604403569388186, ['HDC', 0.7886086136354616], ['McRae', 0.695378325893148], ['res', 0.30626112910784264], ['lin', 0.27011011353953784], ['jcn', 0.22235492828940862], ['wup', 0.2070575921345657], ['path', 0.19687607645529207], ['lch', 0.19687607645529207]]\n",
      "['Q27', 0.3488938770141237, ['HDC', 0.6375709438070853], ['McRae', 0.6199566529767914], ['res', 0.3692403426502507], ['wup', 0.25749323334633933], ['lin', 0.24658822892581725], ['path', 0.24352093585770193], ['lch', 0.24352093585770193], ['jcn', 0.17325974269130198]]\n",
      "['Q28', 0.3488938770141237, ['HDC', 0.6375709438070853], ['McRae', 0.6199566529767914], ['res', 0.3692403426502507], ['wup', 0.25749323334633933], ['lin', 0.24658822892581725], ['path', 0.24352093585770193], ['lch', 0.24352093585770193], ['jcn', 0.17325974269130198]]\n",
      "['Q2', 0.3415724757187817, ['HDC', 0.5662669223604414], ['McRae', 0.5547867013644329], ['res', 0.3375850558236524], ['lin', 0.3141735488713882], ['jcn', 0.266976726178322], ['wup', 0.23999426933900828], ['path', 0.22639829090650423], ['lch', 0.22639829090650423]]\n",
      "['Q17', 0.2955554606787267, ['HDC', 0.6106953569388294], ['McRae', 0.5463774453466734], ['res', 0.26562690798966593], ['lin', 0.23021597442747713], ['jcn', 0.20027653659343542], ['wup', 0.18293990949006775], ['path', 0.16415577732183229], ['lch', 0.16415577732183229]]\n",
      "['Q12', 0.2902547212501893, ['McRae', 0.6004618975665708], ['HDC', 0.5898665069581192], ['res', 0.23519476849564191], ['wup', 0.19297667121723436], ['lin', 0.19072165280904704], ['jcn', 0.17958104902205443], ['path', 0.16661761196642355], ['lch', 0.16661761196642355]]\n",
      "['Q13', 0.2902547212501893, ['McRae', 0.6004618975665708], ['HDC', 0.5898665069581192], ['res', 0.23519476849564191], ['wup', 0.19297667121723436], ['lin', 0.19072165280904704], ['jcn', 0.17958104902205443], ['path', 0.16661761196642355], ['lch', 0.16661761196642355]]\n",
      "['Q16', 0.2865956065940943, ['HDC', 0.6104396900560188], ['McRae', 0.5643267766522911], ['res', 0.2458447971899765], ['lin', 0.21262239043074505], ['jcn', 0.17878077232212045], ['wup', 0.16236359597238095], ['path', 0.15919341506461068], ['lch', 0.15919341506461068]]\n",
      "['Q7', 0.2737206248875153, ['HDC', 0.5787462429650467], ['McRae', 0.5559289605868487], ['res', 0.23607992261014793], ['lin', 0.20437556179682023], ['wup', 0.15868874762365173], ['jcn', 0.1557571352262568], ['path', 0.15009421414567517], ['lch', 0.15009421414567517]]\n",
      "['Q10', 0.2623084489515453, ['HDC', 0.6819711795316644], ['McRae', 0.6187270472564474], ['res', 0.21552342773702504], ['lin', 0.17289173792179174], ['jcn', 0.1417553256133838], ['wup', 0.09424666936093257], ['path', 0.08667610209555858], ['lch', 0.08667610209555858]]\n",
      "['Q15', 0.25450483026742066, ['HDC', 0.37267489411713756], ['McRae', 0.34990198208735407], ['res', 0.24692999854750056], ['path', 0.24236390075425082], ['lch', 0.24236390075425082], ['wup', 0.24141472356577484], ['lin', 0.19176431021770798], ['jcn', 0.1486249320953887]]\n",
      "['Q21', 0.25329288886651685, ['HDC', 0.6341417350743155], ['McRae', 0.5951448140575865], ['res', 0.1986306339589278], ['lin', 0.18010184439194563], ['jcn', 0.13623262252407867], ['wup', 0.10279925157761866], ['path', 0.08964610467383106], ['lch', 0.08964610467383106]]\n",
      "['Q11', 0.2151440180909034, ['HDC', 0.34683048096783825], ['McRae', 0.3016033496377081], ['res', 0.2714373157686664], ['lin', 0.24681431885184685], ['jcn', 0.18520373278580293], ['wup', 0.13990402845469702], ['path', 0.11467945913033371], ['lch', 0.11467945913033371]]\n",
      "['Q8', 0.1734932124831709, ['HDC', 0.5187242612805952], ['McRae', 0.464494750146418], ['jcn', 0.18914112627810073], ['lin', 0.18433111039454575], ['res', 0.15112689479618027], ['wup', -0.01829840242129507], ['path', -0.05078702030458874], ['lch', -0.05078702030458874]]\n",
      "['Q14', 0.15249621908060096, ['HDC', 0.6364958465572669], ['McRae', 0.5398506707490068], ['res', 0.07598641216224107], ['lin', 0.015717251042288587], ['path', -0.004446876281667519], ['lch', -0.004446876281667519], ['wup', -0.006466121427829805], ['jcn', -0.03272055387483079]]\n",
      "['Q18', 0.13748685086398693, ['HDC', 0.5507145201951275], ['McRae', 0.5320943155725666], ['res', 0.06271387378061816], ['lin', 0.012856066994039942], ['path', -0.0070037017109766024], ['lch', -0.0070037017109766024], ['wup', -0.021391642934127965], ['jcn', -0.023084923274375713]]\n",
      "['Q26', 0.08998715046441372, ['McRae', 0.45218076395563517], ['HDC', 0.40528931667423124], ['lin', 0.023382244040020296], ['res', 0.021054473651748555], ['jcn', -0.0020958948789836043], ['wup', -0.05989774370064319], ['path', -0.06000797801334937], ['lch', -0.06000797801334937]]\n"
     ]
    }
   ],
   "source": [
    "print \"Inicio\"\n",
    "Corr_mat = []\n",
    "for Q in range(30):\n",
    "    # 1) Obtain \"human list\", it can be the average responses or an specific one\n",
    "    Hum_sim =  ListofPairs(Q) #or Q + #1-30\n",
    "    \n",
    "    # 2) Obtain list of keys for previous list\n",
    "    keys = map(lambda x: PConcepts.index(x), Hum_sim[0])\n",
    "    \n",
    "    # 3) Create a list of distances according to each metric by consulting the appropiate dictionary\n",
    "    HD_sim = [Dict_HD[x] for x in keys]\n",
    "    McRae_sim = [Dict_McRae[x] for x in keys]\n",
    "    path_sim = [Dict_path[x] for x in keys]\n",
    "    lch_sim = [Dict_lch[x] for x in keys]\n",
    "    # optional... \n",
    "    lch_sim = map(lambda x: round(x/float( max(lch_sim)) , 3), lch_sim)\n",
    "    \n",
    "    wup_sim = [Dict_wup[x] for x in keys]\n",
    "    res_sim = [Dict_res[x] for x in keys]\n",
    "    # optional\n",
    "    res_sim = map(lambda x: round(x/float( max(res_sim)) , 3), res_sim)\n",
    "    \n",
    "    jcn_sim = [Dict_jcn[x] for x in keys]\n",
    "    lin_sim = [Dict_lin[x] for x in keys]\n",
    "\n",
    "    # 4) Calculate correlations\n",
    "    correlations = [['HDC', spearmanr(Hum_sim[1], HD_sim)[0]], ['McRae', spearmanr(Hum_sim[1], McRae_sim)[0]],\n",
    "                    ['path', spearmanr(Hum_sim[1], path_sim)[0]], ['lch', spearmanr(Hum_sim[1], lch_sim)[0]],\n",
    "                    ['wup', spearmanr(Hum_sim[1], wup_sim)[0]], ['res', spearmanr(Hum_sim[1], res_sim)[0]],\n",
    "                    ['jcn', spearmanr(Hum_sim[1], jcn_sim)[0]], ['lin', spearmanr(Hum_sim[1], lin_sim)[0]]]\n",
    "\n",
    "    # 5) Sort list so far (key = )\n",
    "    correlations = sorted(correlations, key = lambda x: x[1], reverse = True)\n",
    "    \n",
    "    # 6) Adding 'name' and average correlation value\n",
    "    Corr_mat.append( ['Q' + str(Q), np.mean([r[1] for r in correlations])] + correlations )\n",
    "\n",
    "# 7) Sorting entire matrix by average value (last...)\n",
    "Corr_mat = sorted(Corr_mat, key = lambda x: x[1], reverse = True)\n",
    "\n",
    "# Printing\n",
    "for v in Corr_mat:\n",
    "    print v"
   ]
  }
 ],
 "metadata": {
  "kernelspec": {
   "display_name": "Python 2",
   "language": "python",
   "name": "python2"
  },
  "language_info": {
   "codemirror_mode": {
    "name": "ipython",
    "version": 2
   },
   "file_extension": ".py",
   "mimetype": "text/x-python",
   "name": "python",
   "nbconvert_exporter": "python",
   "pygments_lexer": "ipython2",
   "version": "2.7.14"
  }
 },
 "nbformat": 4,
 "nbformat_minor": 2
}
