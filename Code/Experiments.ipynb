{
 "cells": [
  {
   "cell_type": "markdown",
   "metadata": {},
   "source": [
    "# Experiments\n",
    "\n",
    "In this notebook is implemented the three experiments described in the paper.\n",
    "\n",
    "## Header\n",
    "\n",
    "Libraries and additional programs"
   ]
  },
  {
   "cell_type": "code",
   "execution_count": 33,
   "metadata": {},
   "outputs": [],
   "source": [
    "import matplotlib\n",
    "import matplotlib.pyplot as plt\n",
    "import numpy\n",
    "import random\n",
    "from scipy.stats.stats import pearsonr\n",
    "\n",
    "%matplotlib inline\n",
    "\n",
    "pathh = '../Data/' \n",
    "#exp_file = 'ExperimentalResults_2.xlsx'  #Datos obtenidos con mis encuestas\n",
    "#exp_file = 'ExperimentalResults_3.xlsx'   # Datos de MTURK-771\n",
    "exp_file = 'ExperimentalResults_4.xlsx'   # Q1 Modificado..."
   ]
  },
  {
   "cell_type": "markdown",
   "metadata": {},
   "source": [
    "## Initializnig memory and encoding dataset in HD space"
   ]
  },
  {
   "cell_type": "code",
   "execution_count": 34,
   "metadata": {},
   "outputs": [
    {
     "name": "stdout",
     "output_type": "stream",
     "text": [
      "End of memory initialization\n",
      "Begining to encode dataset...\n",
      "End of encoding\n"
     ]
    }
   ],
   "source": [
    "%run EncodingDataset.ipynb\n",
    "Init_mem()"
   ]
  },
  {
   "cell_type": "markdown",
   "metadata": {},
   "source": [
    "## Experiment 1\n",
    "\n",
    "Given a concept it retrieves the \"num_concepts\" most similar concepts to it (for each different method). A comparison between methods is done by counting the number of coincidences between lists of concepts."
   ]
  },
  {
   "cell_type": "code",
   "execution_count": 42,
   "metadata": {},
   "outputs": [
    {
     "name": "stdout",
     "output_type": "stream",
     "text": [
      "['spoon', 'airplane', 'chair']\n",
      "\n",
      "\n",
      "Concept:  spoon\n",
      "HDC_sim:  [['spoon', 1.0], ['ladle', 0.662], ['spatula', 0.625], ['fork', 0.616], ['colander', 0.61], ['tongs', 0.609], ['pot', 0.588], ['bucket', 0.584], ['bowl', 0.582], ['grater', 0.582], ['peg', 0.582]]\n",
      "DatSet_sim:  [['spoon', 1.0], ['fork', 0.546], ['ladle', 0.411], ['spatula', 0.395], ['tongs', 0.35], ['colander', 0.336], ['bowl', 0.292], ['strainer', 0.282], ['dish', 0.282], ['peg', 0.28], ['grater', 0.259]]\n",
      "LC_sim:  [['spoon', 3.638], ['bag', 2.539], ['basket', 2.539], ['bin_(waste)', 2.539], ['box', 2.539], ['cup', 2.539], ['dish', 2.539], ['envelope', 2.539], ['fork', 2.539], ['thimble', 2.539], ['ashtray', 2.251]]\n",
      "WUP_sim:  [['fork', 0.9], ['spoon', 0.9], ['bag', 0.875], ['basket', 0.875], ['bin_(waste)', 0.875], ['box', 0.875], ['envelope', 0.875], ['thimble', 0.875], ['ashtray', 0.824], ['barrel', 0.824], ['bathtub', 0.824]]\n",
      "Res_sim:  [['spoon', 11.208], ['fork', 10.574], ['cup', 7.49], ['dish', 7.49], ['plate', 7.49], ['saucer', 7.49], ['ambulance', 5.206], ['ashtray', 5.206], ['bag', 5.206], ['barrel', 5.206], ['basket', 5.206]]\n",
      "JC_sim:  [['spoon', 1e+300], ['fork', 0.697], ['dish', 0.182], ['cup', 0.152], ['plate', 0.145], ['car', 0.119], ['truck', 0.107], ['box', 0.106], ['bag', 0.102], ['bike', 0.1], ['saucer', 0.1]]\n",
      "[[9, 2, 2, 2, 2]]\n",
      "\n",
      "\n",
      "Concept:  airplane\n",
      "HDC_sim:  [['airplane', 1.0], ['jet', 0.762], ['train', 0.628], ['helicopter', 0.613], ['trolley', 0.599], ['rocket', 0.597], ['taxi', 0.586], ['ship', 0.581], ['hornet', 0.58], ['raven', 0.577], ['scooter', 0.577]]\n",
      "DatSet_sim:  [['airplane', 1.0], ['jet', 0.775], ['housefly', 0.476], ['falcon', 0.471], ['moth', 0.469], ['hornet', 0.465], ['butterfly', 0.452], ['pigeon', 0.446], ['bat_(animal)', 0.443], ['hawk', 0.438], ['blackbird', 0.407]]\n",
      "LC_sim:  [['airplane', 3.638], ['jet', 2.944], ['helicopter', 2.539], ['boat', 1.846], ['ship', 1.846], ['sled', 1.846], ['sleigh', 1.846], ['yacht', 1.846], ['bike', 1.692], ['missile', 1.692], ['sailboat', 1.692]]\n",
      "WUP_sim:  [['airplane', 1.0], ['jet', 0.96], ['helicopter', 0.917], ['boat', 0.783], ['ship', 0.783], ['yacht', 0.783], ['sled', 0.762], ['sleigh', 0.762], ['sailboat', 0.75], ['bike', 0.727], ['missile', 0.727]]\n",
      "Res_sim:  [['airplane', 8.871], ['jet', 8.871], ['helicopter', 8.643], ['boat', 7.221], ['canoe', 7.221], ['sailboat', 7.221], ['ship', 7.221], ['submarine', 7.221], ['yacht', 7.221], ['ambulance', 5.922], ['bike', 5.922]]\n",
      "JC_sim:  [['airplane', 1e+300], ['jet', 0.477], ['ship', 0.363], ['boat', 0.323], ['submarine', 0.219], ['car', 0.217], ['helicopter', 0.202], ['truck', 0.178], ['canoe', 0.165], ['bike', 0.159], ['missile', 0.158]]\n",
      "[[9, 2, 2, 2, 2], [3, 4, 4, 4, 4]]\n",
      "\n",
      "\n",
      "Concept:  chair\n",
      "HDC_sim:  [['chair', 1.0], ['sofa', 0.643], ['stool_(furniture)', 0.633], ['couch', 0.622], ['bench', 0.596], ['rocker', 0.59], ['table', 0.588], ['desk', 0.57], ['cabin', 0.554], ['gopher', 0.553], ['cabinet', 0.552]]\n",
      "DatSet_sim:  [['chair', 1.0], ['stool_(furniture)', 0.611], ['couch', 0.568], ['sofa', 0.546], ['bench', 0.511], ['table', 0.425], ['desk', 0.407], ['donkey', 0.321], ['rocker', 0.319], ['dog', 0.301], ['cabinet', 0.255]]\n",
      "LC_sim:  [['chair', 3.638], ['rocker', 2.944], ['bench', 2.539], ['couch', 2.539], ['sofa', 2.539], ['stool_(furniture)', 2.539], ['bookcase', 2.251], ['cabinet', 2.251], ['closet', 2.251], ['dresser', 2.251], ['lamp', 2.251]]\n",
      "WUP_sim:  [['chair', 1.0], ['rocker', 0.952], ['bench', 0.9], ['couch', 0.9], ['sofa', 0.9], ['stool_(furniture)', 0.9], ['bookcase', 0.842], ['cabinet', 0.842], ['closet', 0.842], ['dresser', 0.842], ['lamp', 0.842]]\n",
      "Res_sim:  [['chair', 9.793], ['rocker', 9.793], ['bench', 8.435], ['couch', 8.435], ['sofa', 8.435], ['stool_(furniture)', 8.435], ['bed', 6.616], ['bookcase', 6.616], ['cabinet', 6.616], ['closet', 6.616], ['desk', 6.616]]\n",
      "JC_sim:  [['chair', 1e+300], ['rocker', 0.347], ['bench', 0.3], ['couch', 0.294], ['sofa', 0.294], ['table', 0.228], ['bed', 0.205], ['stool_(furniture)', 0.197], ['desk', 0.172], ['closet', 0.163], ['curtains', 0.16]]\n",
      "[[9, 2, 2, 2, 2], [3, 4, 4, 4, 4], [9, 7, 7, 8, 8]]\n",
      "Average:  [7.         4.33333333 4.33333333 4.66666667 4.66666667]\n"
     ]
    }
   ],
   "source": [
    "import random \n",
    "\n",
    "# List of all concepts in dataset\n",
    "Concepts = get_concepts_list() \n",
    "\n",
    "# Test concepts\n",
    "Test_Concepts =  ['spoon', 'airplane', 'chair']\n",
    "sample_size = 100\n",
    "#Test_Concepts = random.sample(Concepts, sample_size)\n",
    "print Test_Concepts\n",
    "\n",
    "num_concepts = 11\n",
    "coincidence = []\n",
    "\n",
    "for test_concept in Test_Concepts:\n",
    "    print \"\\n\\nConcept: \", test_concept\n",
    "    # Asking closest concept of another concept's definition...\n",
    "    HDC_sim = HDvector.getLabelSP(Dict[test_concept].getPointer())[:num_concepts]\n",
    "    HDC_sim = NormalizeHammDist(HDC_sim)\n",
    "    print \"HDC_sim: \", HDC_sim\n",
    "    \n",
    "    DatSet_sim = ClosestConcepts(test_concept, num_concepts)\n",
    "    print \"DatSet_sim: \", DatSet_sim\n",
    "\n",
    "    concept = wn.synset( get_synset(test_concept) )\n",
    "    # Path similarity\n",
    "    LC_sim = apply_sim_metric(wn.lch_similarity, num_concepts, concept ) \n",
    "    print \"LC_sim: \", LC_sim\n",
    "    WUP_sim = apply_sim_metric(wn.wup_similarity, num_concepts, concept )\n",
    "    print \"WUP_sim: \", WUP_sim\n",
    "    \n",
    "    # Information Content\n",
    "    Res_sim = apply_sim_metric(wn.res_similarity, num_concepts, concept, brown_ic)\n",
    "    print \"Res_sim: \", Res_sim\n",
    "    JC_sim = apply_sim_metric(wn.jcn_similarity, num_concepts, concept, brown_ic)\n",
    "    print \"JC_sim: \", JC_sim\n",
    "    \n",
    "    # Comparing lists agains HDC_sim for counting coincidence.\n",
    "    # Creating name sets\n",
    "    HDC_names = set([x[0] for x in HDC_sim])\n",
    "    DatSet_names = set([x[0] for x in DatSet_sim])\n",
    "    LC_names = set([x[0] for x in LC_sim])\n",
    "    WUP_names = set([x[0] for x in WUP_sim])\n",
    "    Res_names = set([x[0] for x in Res_sim])\n",
    "    JC_names = set([x[0] for x in JC_sim])\n",
    "    \n",
    "    coincidence = coincidence + [[len(HDC_names.intersection(DatSet_names)), \n",
    "                                 len(HDC_names.intersection(LC_names)), \n",
    "                                 len(HDC_names.intersection(WUP_names)),    \n",
    "                                 len(HDC_names.intersection(Res_names)), \n",
    "                                 len(HDC_names.intersection(JC_names))]]\n",
    "    print coincidence\n",
    "\n",
    "coincidence = np.array(coincidence)\n",
    "# Measuring average against each method.\n",
    "print \"Average: \", np.mean(coincidence, axis = 0)"
   ]
  },
  {
   "cell_type": "code",
   "execution_count": 36,
   "metadata": {},
   "outputs": [
    {
     "name": "stdout",
     "output_type": "stream",
     "text": [
      "Average:  [5.75       3.16666667 3.16666667 3.125      2.83333333]\n"
     ]
    }
   ],
   "source": [
    "A = np.array([[5, 1, 1, 2, 1], [5, 2, 2, 2, 2], [8, 7, 7, 7, 4], [5, 2, 2, 2, 2], [8, 6, 6, 6, 8], [8, 5, 6, 6, 4], [7, 5, 5, 4, 3], [1, 1, 1, 1, 1], [5, 1, 1, 1, 1], [7, 5, 5, 5, 4], [6, 3, 3, 2, 2], [5, 2, 2, 1, 2], [5, 1, 1, 3, 2], [6, 2, 2, 2, 2], [6, 5, 4, 4, 4], [4, 1, 1, 1, 1], [9, 3, 3, 2, 5], [2, 1, 1, 1, 1], [8, 6, 6, 6, 3], [8, 2, 2, 2, 2], [7, 7, 6, 6, 7], [7, 6, 7, 7, 5], [5, 1, 1, 1, 1], [1, 1, 1, 1, 1]])\n",
    "print \"Average: \", np.mean(A, axis = 0)"
   ]
  }
 ],
 "metadata": {
  "kernelspec": {
   "display_name": "Python 2",
   "language": "python",
   "name": "python2"
  },
  "language_info": {
   "codemirror_mode": {
    "name": "ipython",
    "version": 2
   },
   "file_extension": ".py",
   "mimetype": "text/x-python",
   "name": "python",
   "nbconvert_exporter": "python",
   "pygments_lexer": "ipython2",
   "version": "2.7.14"
  }
 },
 "nbformat": 4,
 "nbformat_minor": 2
}
