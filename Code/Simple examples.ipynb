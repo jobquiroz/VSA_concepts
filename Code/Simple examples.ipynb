{
 "cells": [
  {
   "cell_type": "markdown",
   "metadata": {},
   "source": [
    "# Simple examples\n",
    "\n",
    "In this notebook we include a complete example for a pair of concepts (*gun-knife*) using the representation model presented in the (under review) article: \"Vector Symbolic Architectures for Concept Representation\". \n",
    "\n",
    "Many of the processes done in the following cells are not done explicitly in the main files of the project. This demostration is only for didactic purposes.\n"
   ]
  },
  {
   "cell_type": "markdown",
   "metadata": {},
   "source": [
    "### Libraries"
   ]
  },
  {
   "cell_type": "code",
   "execution_count": 38,
   "metadata": {},
   "outputs": [],
   "source": [
    "import random\n",
    "import numpy\n",
    "import pandas as pd\n",
    "import matplotlib.pyplot as plt\n",
    "\n",
    "# Declaring all functions in HDComputingBasics & EncodingDataset\n",
    "%run EncodingDataset.ipynb"
   ]
  },
  {
   "cell_type": "markdown",
   "metadata": {},
   "source": [
    "### Semantic features of *knife* and *gun*.\n",
    "\n",
    "These are some of the semantic features for knife and gun from the McRae et al, dataset."
   ]
  },
  {
   "cell_type": "code",
   "execution_count": 39,
   "metadata": {},
   "outputs": [],
   "source": [
    "# General dictionary of definitions\n",
    "Dictionary = {} #['knife', 'gun']\n",
    "\n",
    "Dictionary['knife'] = ['has a handle', 'made of metal', 'is cutlery', 'is sharp', \n",
    "                 'used for cutting', 'is a weapon', 'used for killing', 'found in kitchens']\n",
    "\n",
    "Dictionary['gun'] = ['has a trigger', 'made of metal', 'used for hunting', 'used for killing', \n",
    "              'is dangerous', 'is a weapon', 'usedy by police', 'requires bullets']"
   ]
  },
  {
   "cell_type": "markdown",
   "metadata": {},
   "source": [
    "### Formatting semantic features \n",
    "\n",
    "Each semantic feature is divided into a relation and a feature.\n",
    "\n",
    "Some features are lemmatized."
   ]
  },
  {
   "cell_type": "code",
   "execution_count": 40,
   "metadata": {},
   "outputs": [],
   "source": [
    "Dictionary['knife'] = [['has','handle'], ['made_of', 'metal'], ['is', 'cutlery'], ['is', 'sharp'], ['used_for', 'cut'],\n",
    "                ['is','weapon'], ['found_in', 'kitchen']]\n",
    "\n",
    "Dictionary['gun'] = [['has', 'trigger'], ['made_of', 'metal'], ['used_for', 'hunt'], ['used_for','kill'], ['is', 'dangerous'],\n",
    "                ['is', 'weapon'], ['used_by', 'police'], ['requires', 'bullets']]"
   ]
  },
  {
   "cell_type": "markdown",
   "metadata": {},
   "source": [
    "### From semantic features to HD vectors\n",
    "\n",
    "####  Extracting all single words (relations & features) from Dictionary"
   ]
  },
  {
   "cell_type": "code",
   "execution_count": 41,
   "metadata": {},
   "outputs": [
    {
     "name": "stdout",
     "output_type": "stream",
     "text": [
      "['dangerous', 'kill', 'requires', 'found_in', 'cut', 'sharp', 'trigger', 'gun', 'bullets', 'used_by', 'cutlery', 'knife', 'police', 'made_of', 'is', 'used_for', 'weapon', 'metal', 'handle', 'has', 'hunt', 'kitchen']\n"
     ]
    }
   ],
   "source": [
    "All_words_set = set(Dictionary.keys())\n",
    "\n",
    "for concept in Dictionary.values():\n",
    "    for SemFeature in concept:\n",
    "        All_words_set.add(SemFeature[0]) \n",
    "        All_words_set.add(SemFeature[1]) \n",
    "\n",
    "All_words = list(All_words_set)\n",
    "print(All_words)"
   ]
  },
  {
   "cell_type": "markdown",
   "metadata": {},
   "source": [
    "#### Assigning a random high-dimensional vector to each relation, feature and concept"
   ]
  },
  {
   "cell_type": "code",
   "execution_count": 42,
   "metadata": {},
   "outputs": [],
   "source": [
    "# Dictionary of vectors\n",
    "Dictionary_vecs = {}\n",
    "\n",
    "for word in All_words:\n",
    "    Dictionary_vecs[word] = HDvector(N)  # N = 10,000... \n",
    "\n",
    "# Dictionary_vecs"
   ]
  },
  {
   "cell_type": "markdown",
   "metadata": {},
   "source": [
    "#### Verifying (approximate) orthogonality\n",
    "\n",
    "This loop measures the distance between all the vectors declared so far."
   ]
  },
  {
   "cell_type": "code",
   "execution_count": 43,
   "metadata": {},
   "outputs": [
    {
     "data": {
      "text/plain": [
       "count     231.000000\n",
       "mean     4996.731602\n",
       "std        51.353902\n",
       "min      4870.000000\n",
       "25%      4959.000000\n",
       "50%      5003.000000\n",
       "75%      5033.000000\n",
       "max      5162.000000\n",
       "dtype: float64"
      ]
     },
     "execution_count": 43,
     "metadata": {},
     "output_type": "execute_result"
    }
   ],
   "source": [
    "Num_of_vecs = len(Dictionary_vecs.values())\n",
    "list_vectors = list(Dictionary_vecs.values())\n",
    "All_distances = []\n",
    "\n",
    "for i in range(Num_of_vecs):\n",
    "    for j in range(i+1, Num_of_vecs):\n",
    "        # Function to measure distance between two vectors\n",
    "        All_distances.append( HDvector.dist(list_vectors[i], list_vectors[j]) )\n",
    "        \n",
    "# Pandas series\n",
    "All_distances_ser = pd.Series(All_distances)\n",
    "\n",
    "# Descriptive analytics of distances:\n",
    "All_distances_ser.describe()"
   ]
  },
  {
   "cell_type": "markdown",
   "metadata": {},
   "source": [
    "#### Multiplication leads to an orthogonal vector\n",
    "\n",
    "By multiplying two orthogonal vectors the result will be another vector that is orthogonal to the first two. "
   ]
  },
  {
   "cell_type": "code",
   "execution_count": 44,
   "metadata": {},
   "outputs": [
    {
     "name": "stdout",
     "output_type": "stream",
     "text": [
      "Vector A: [1 0 0 ... 0 1 0]\n",
      "Vector B: [0 1 0 ... 1 1 0]\n",
      "Distance:  4977\n",
      "Multiplication...: [1 1 0 ... 1 0 0]\n",
      "Distance from A to mult: 4988\n",
      "Distance from B to mult: 5035\n"
     ]
    }
   ],
   "source": [
    "vec_A = HDvector(N) # A random vector\n",
    "vec_B = HDvector(N) # Another random vector\n",
    "print(\"Vector A:\", vec_A)\n",
    "print(\"Vector B:\", vec_B)\n",
    "print(\"Distance: \", vec_A.dist(vec_B))\n",
    "\n",
    "mult = vec_A * vec_B\n",
    "print('Multiplication...:', mult)\n",
    "print('Distance from A to mult:', vec_A.dist(mult))\n",
    "print('Distance from B to mult:', vec_B.dist(mult))"
   ]
  },
  {
   "cell_type": "markdown",
   "metadata": {},
   "source": [
    "### Creating semantic pointers\n",
    "\n",
    "The general equation for semantic features is:\n",
    "\n",
    "$$Semantic Pointers = Relation_0 * Feature_0 + Relation_1 * Feature_1 + ... + Relation_n * Feature_n$$\n",
    "\n",
    "In this cell we perform this equation for the concepts *knife* and *gun*"
   ]
  },
  {
   "cell_type": "code",
   "execution_count": 45,
   "metadata": {},
   "outputs": [],
   "source": [
    "knife_SP = ADD([Dictionary_vecs[x[0]] * Dictionary_vecs[x[1]] for x in Dictionary['knife']])\n",
    "\n",
    "gun_SP = ADD([Dictionary_vecs[x[0]] * Dictionary_vecs[x[1]] for x in Dictionary['gun']])"
   ]
  },
  {
   "cell_type": "markdown",
   "metadata": {},
   "source": [
    "### Measuring Distance."
   ]
  },
  {
   "cell_type": "code",
   "execution_count": 46,
   "metadata": {},
   "outputs": [
    {
     "data": {
      "text/plain": [
       "4127"
      ]
     },
     "execution_count": 46,
     "metadata": {},
     "output_type": "execute_result"
    }
   ],
   "source": [
    "HDvector.dist(knife_SP, gun_SP)"
   ]
  },
  {
   "cell_type": "markdown",
   "metadata": {},
   "source": [
    "#### Measuring similarity\n",
    "\n",
    "To measure the distance we apply the following formula:\n",
    "\n",
    "$$ Semantic similarity = 1 - HammingDistance / N$$"
   ]
  },
  {
   "cell_type": "code",
   "execution_count": 47,
   "metadata": {},
   "outputs": [
    {
     "data": {
      "text/plain": [
       "0.5872999999999999"
      ]
     },
     "execution_count": 47,
     "metadata": {},
     "output_type": "execute_result"
    }
   ],
   "source": [
    "SemSim = 1 - float(HDvector.dist(knife_SP, gun_SP)) / N\n",
    "\n",
    "SemSim"
   ]
  },
  {
   "cell_type": "markdown",
   "metadata": {},
   "source": [
    "This semantic similarity value indicates that the concepts are clearly related (the closer to 1 the more similar). As seen before, the mean distance between two random vectors is (in this case) 5,000. The hyperdimensional computings operations performed were able to encode the semantic similarities between the sets of semantic features. \n",
    "\n",
    "The average semantic similarity according to humans for this pair was **4.88**."
   ]
  },
  {
   "cell_type": "markdown",
   "metadata": {},
   "source": [
    "### Interpretability\n",
    "\n",
    "**What a knife has?, What a gun has?**"
   ]
  },
  {
   "cell_type": "markdown",
   "metadata": {},
   "source": [
    "HD representations have the particular characteristics of being interpretable. It is possible to analyze the semantic features used to create its semantic pointer."
   ]
  },
  {
   "cell_type": "code",
   "execution_count": 48,
   "metadata": {},
   "outputs": [],
   "source": [
    "# Multiplying semantic pointers by the relation vector has\n",
    "knife_has = knife_SP * Dictionary_vecs['has']\n",
    "gun_has = gun_SP * Dictionary_vecs['has']"
   ]
  },
  {
   "cell_type": "code",
   "execution_count": 49,
   "metadata": {},
   "outputs": [
    {
     "name": "stdout",
     "output_type": "stream",
     "text": [
      "handle\n",
      "trigger\n"
     ]
    }
   ],
   "source": [
    "# Finding the closest vector \n",
    "knife_has_dists = []\n",
    "gun_has_dists = []\n",
    "\n",
    "for i in range(Num_of_vecs):\n",
    "    knife_has_dists.append( HDvector.dist(knife_has, list_vectors[i]) )\n",
    "    gun_has_dists.append( HDvector.dist(gun_has, list_vectors[i]) )\n",
    "        \n",
    "knife_has_dists = np.array(knife_has_dists)\n",
    "gun_has_dists = np.array(gun_has_dists)\n",
    "\n",
    "print(All_words[np.argmin(knife_has_dists)])\n",
    "print(All_words[np.argmin(gun_has_dists)])"
   ]
  },
  {
   "cell_type": "markdown",
   "metadata": {},
   "source": [
    "**Why are *knife* and *gun* similar??**\n",
    "\n",
    "To answer this question a similar analysis as the one in the preceding cell should be performed to each concept vector for every single relation, with the goal of finding semantic features coincidences."
   ]
  }
 ],
 "metadata": {
  "kernelspec": {
   "display_name": "Python 3",
   "language": "python",
   "name": "python3"
  },
  "language_info": {
   "codemirror_mode": {
    "name": "ipython",
    "version": 3
   },
   "file_extension": ".py",
   "mimetype": "text/x-python",
   "name": "python",
   "nbconvert_exporter": "python",
   "pygments_lexer": "ipython3",
   "version": "3.8.3"
  }
 },
 "nbformat": 4,
 "nbformat_minor": 2
}
